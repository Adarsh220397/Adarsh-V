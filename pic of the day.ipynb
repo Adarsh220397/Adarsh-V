{
 "cells": [
  {
   "cell_type": "code",
   "execution_count": 4,
   "id": "42830bbc",
   "metadata": {},
   "outputs": [
    {
     "name": "stdout",
     "output_type": "stream",
     "text": [
      "Success!\n"
     ]
    },
    {
     "data": {
      "text/plain": [
       "[]"
      ]
     },
     "execution_count": 4,
     "metadata": {},
     "output_type": "execute_result"
    }
   ],
   "source": [
    "import requests\n",
    "from bs4 import BeautifulSoup\n",
    "from wallpaper import set_wallpaper\n",
    "\n",
    "response=requests.get('https://commons.wikimedia.org/wiki/Main_Page')\n",
    "# Checking website status\n",
    "if response.status_code == 200:\n",
    "    print('Success!')\n",
    "elif response.status_code == 404:\n",
    "    print('Page Not Found.')\n",
    "src=response.content\n",
    "soup = BeautifulSoup(src,'lxml')\n",
    "# finding src of pic of the day image\n",
    "ss=soup.find('div',{'id':'mf-picture-picture','class':'mainpage-box-content'})\n",
    "url=\"https://commons.wikimedia.org{}\".format(ss.a['href'])\n",
    "imagepage=requests.get(url)\n",
    "imgsoup = BeautifulSoup(imagepage.content,'lxml')\n",
    "# getting image url for original file source\n",
    "imgurl=imgsoup.find('a',string=\"Original file\")['href']\n",
    "# downloading image file\n",
    "with open('wall.jpg','wb') as handle:\n",
    "    response = requests.get(imgurl).content\n",
    "    handle.write(response)\n",
    "# setting image file as desktop wallpaper\n",
    "set_wallpaper(\"wall.jpg\")"
   ]
  },
  {
   "cell_type": "code",
   "execution_count": null,
   "id": "51661708",
   "metadata": {},
   "outputs": [],
   "source": []
  }
 ],
 "metadata": {
  "kernelspec": {
   "display_name": "Python 3 (ipykernel)",
   "language": "python",
   "name": "python3"
  },
  "language_info": {
   "codemirror_mode": {
    "name": "ipython",
    "version": 3
   },
   "file_extension": ".py",
   "mimetype": "text/x-python",
   "name": "python",
   "nbconvert_exporter": "python",
   "pygments_lexer": "ipython3",
   "version": "3.9.6"
  }
 },
 "nbformat": 4,
 "nbformat_minor": 5
}
